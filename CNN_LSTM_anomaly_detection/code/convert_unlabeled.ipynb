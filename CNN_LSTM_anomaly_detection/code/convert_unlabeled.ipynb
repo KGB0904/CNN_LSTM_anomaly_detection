{
 "cells": [
  {
   "cell_type": "code",
   "execution_count": 55,
   "metadata": {},
   "outputs": [
    {
     "name": "stdout",
     "output_type": "stream",
     "text": [
      "232\n",
      "Saved 20 frames to output_frames/unlabeled/17\n"
     ]
    }
   ],
   "source": [
    "import cv2\n",
    "import numpy as np\n",
    "import os\n",
    "\n",
    "def split_video_into_frames(video_path, output_folder, num_frames=20):\n",
    "    # 비디오를 로드하고 총 프레임 수를 구함\n",
    "    video = cv2.VideoCapture(video_path)\n",
    "    total_frames = int(video.get(cv2.CAP_PROP_FRAME_COUNT))\n",
    "    print(total_frames)\n",
    "    \n",
    "    # 균일한 간격으로 프레임을 선택하기 위한 간격 계산\n",
    "    interval = total_frames // num_frames\n",
    "    \n",
    "    # 출력 폴더 생성 (존재하지 않을 경우)\n",
    "    if not os.path.exists(output_folder):\n",
    "        os.makedirs(output_folder)\n",
    "    \n",
    "    # 선택된 프레임을 이미지 파일로 저장\n",
    "    for i in range(num_frames):\n",
    "        # 비디오를 올바른 위치로 이동\n",
    "        video.set(cv2.CAP_PROP_POS_FRAMES, i * interval)\n",
    "        \n",
    "        # 프레임 읽기\n",
    "        success, frame = video.read()\n",
    "        if not success:\n",
    "            break  # 읽기 실패시 중단\n",
    "        \n",
    "        # 이미지 파일로 저장\n",
    "        cv2.imwrite(f\"{output_folder}/frame_{i+1:03d}.jpg\", frame)\n",
    "    \n",
    "    # 자원 해제\n",
    "    video.release()\n",
    "    print(f\"Saved {num_frames} frames to {output_folder}\")\n",
    "\n",
    "for i in range(17, 18):\n",
    "    video_path = f'dataset/fortest/{i}.mp4'  # 비디오 파일 경로\n",
    "    output_folder = f'output_frames/unlabeled/{i}'  # 출력될 폴더\n",
    "    split_video_into_frames(video_path, output_folder)"
   ]
  },
  {
   "cell_type": "code",
   "execution_count": 39,
   "metadata": {},
   "outputs": [],
   "source": [
    "import numpy as np\n",
    "import tensorflow as tf\n",
    "import tensorflow_hub as hub\n",
    "import os\n",
    "import json\n",
    "# MoveNet 모델 로드\n",
    "movenet = hub.load(\"https://tfhub.dev/google/movenet/singlepose/lightning/4\").signatures['serving_default']\n",
    "\n",
    "def load_and_preprocess_image(image_path):\n",
    "    image = tf.io.read_file(image_path)\n",
    "    image = tf.image.decode_jpeg(image, channels=3)\n",
    "    image = tf.image.resize_with_pad(image, 192, 192)\n",
    "    image = tf.expand_dims(image, axis=0)\n",
    "    image = tf.cast(image, dtype=tf.int32)\n",
    "    return image\n",
    "\n",
    "def get_keypoints(image_path):\n",
    "    image = load_and_preprocess_image(image_path)\n",
    "    keypoints = movenet(image)['output_0']\n",
    "    keypoints = tf.squeeze(keypoints, axis=0)\n",
    "    return keypoints.numpy().flatten()"
   ]
  },
  {
   "cell_type": "code",
   "execution_count": 54,
   "metadata": {},
   "outputs": [],
   "source": [
    "base_dir = 'output_frames\\\\unlabeled\\\\17'  # 기본 디렉토리 설정\n",
    "\n",
    "sequences = []\n",
    "\n",
    "sequence_keypoints = []\n",
    "\n",
    "for i in range(1, 21):  # 1부터 20까지 반복\n",
    "    frame_filename = f'frame_{i:03d}.jpg'  # 001, 002, ... 형태로 포매팅\n",
    "    image_path = os.path.join(base_dir, frame_filename)\n",
    "    keypoints = get_keypoints(image_path)\n",
    "    sequence_keypoints.append(keypoints)\n",
    "    \n",
    "sequences.append(sequence_keypoints)\n",
    "\n",
    "sequences = np.array(sequences)\n",
    "\n",
    "sequences_list = sequences.tolist()\n",
    "\n",
    "# JSON 파일로 저장\n",
    "data = {'sequences': sequences_list}\n",
    "with open('unlabeled_data.json', 'w') as json_file:\n",
    "    json.dump(data, json_file)"
   ]
  }
 ],
 "metadata": {
  "kernelspec": {
   "display_name": "py3_10",
   "language": "python",
   "name": "python3"
  },
  "language_info": {
   "codemirror_mode": {
    "name": "ipython",
    "version": 3
   },
   "file_extension": ".py",
   "mimetype": "text/x-python",
   "name": "python",
   "nbconvert_exporter": "python",
   "pygments_lexer": "ipython3",
   "version": "3.10.10"
  }
 },
 "nbformat": 4,
 "nbformat_minor": 2
}
