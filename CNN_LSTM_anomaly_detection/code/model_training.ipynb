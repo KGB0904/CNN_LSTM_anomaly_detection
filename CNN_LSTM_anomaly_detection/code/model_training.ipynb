{
 "cells": [
  {
   "cell_type": "code",
   "execution_count": 35,
   "metadata": {},
   "outputs": [
    {
     "name": "stdout",
     "output_type": "stream",
     "text": [
      "Model: \"sequential_3\"\n",
      "_________________________________________________________________\n",
      " Layer (type)                Output Shape              Param #   \n",
      "=================================================================\n",
      " time_distributed_6 (TimeDis  (None, 5, 51, 64)        256       \n",
      " tributed)                                                       \n",
      "                                                                 \n",
      " time_distributed_7 (TimeDis  (None, 5, 3264)          0         \n",
      " tributed)                                                       \n",
      "                                                                 \n",
      " lstm_6 (LSTM)               (None, 5, 50)             663000    \n",
      "                                                                 \n",
      " lstm_7 (LSTM)               (None, 50)                20200     \n",
      "                                                                 \n",
      " dense_3 (Dense)             (None, 51)                2601      \n",
      "                                                                 \n",
      "=================================================================\n",
      "Total params: 686,057\n",
      "Trainable params: 686,057\n",
      "Non-trainable params: 0\n",
      "_________________________________________________________________\n"
     ]
    }
   ],
   "source": [
    "import tensorflow as tf\n",
    "from tensorflow.keras.models import Sequential\n",
    "from tensorflow.keras.layers import LSTM, Dense, Conv1D, Flatten, TimeDistributed\n",
    "\n",
    "def create_model():\n",
    "    # Model parameters\n",
    "    n_joints = 17\n",
    "    n_dimensions = 3\n",
    "    n_frames = 5\n",
    "    n_features = n_joints * n_dimensions  # 51 features = 17 joints * 3 dimensions\n",
    "\n",
    "    # Model configuration\n",
    "    model = Sequential([\n",
    "        TimeDistributed(Conv1D(filters=64, kernel_size=3, activation='relu', padding='same'), input_shape=(n_frames, n_features, 1)),\n",
    "        TimeDistributed(Flatten()),\n",
    "        LSTM(50, return_sequences=True),\n",
    "        LSTM(50),\n",
    "        Dense(n_features)\n",
    "    ])\n",
    "\n",
    "    model.compile(optimizer='adam', loss='mse')\n",
    "    return model\n",
    "\n",
    "model = create_model()\n",
    "\n",
    "model.summary()"
   ]
  },
  {
   "cell_type": "code",
   "execution_count": 36,
   "metadata": {},
   "outputs": [
    {
     "name": "stdout",
     "output_type": "stream",
     "text": [
      "x_train shape: (990, 5, 51)\n",
      "y_train shape: (990, 51)\n"
     ]
    }
   ],
   "source": [
    "import numpy as np\n",
    "import json\n",
    "\n",
    "with open('sequence_data1.json', 'r') as file:\n",
    "    data = json.load(file)\n",
    "    sequences = np.array(data['sequences'])\n",
    "\n",
    "    x_train = []\n",
    "    y_train = []\n",
    "\n",
    "    window_size = 5  # 5개의 이전 프레임을 사용하여 다음 프레임을 예측\n",
    "\n",
    "    # 데이터에서 시퀀스 추출\n",
    "    for sequence in sequences:\n",
    "        # 각 시퀀스 내에서 가능한 모든 윈도우 추출\n",
    "        for i in range(len(sequence) - window_size):\n",
    "            x_train.append(sequence[i:i+window_size])\n",
    "            y_train.append(sequence[i+window_size])\n",
    "\n",
    "    # numpy 배열로 변환\n",
    "    x_train = np.array(x_train)\n",
    "    y_train = np.array(y_train)\n",
    "\n",
    "    # 데이터 형태 출력\n",
    "    print(\"x_train shape:\", x_train.shape)\n",
    "    print(\"y_train shape:\", y_train.shape)"
   ]
  },
  {
   "cell_type": "code",
   "execution_count": 37,
   "metadata": {},
   "outputs": [
    {
     "name": "stdout",
     "output_type": "stream",
     "text": [
      "Epoch 1/10\n",
      "31/31 [==============================] - 44s 1s/step - loss: 0.0680\n",
      "Epoch 2/10\n",
      "31/31 [==============================] - 8s 170ms/step - loss: 0.0104\n",
      "Epoch 3/10\n",
      "31/31 [==============================] - 36s 1s/step - loss: 0.0075\n",
      "Epoch 4/10\n",
      "31/31 [==============================] - 7s 231ms/step - loss: 0.0057\n",
      "Epoch 5/10\n",
      "31/31 [==============================] - 2s 46ms/step - loss: 0.0047\n",
      "Epoch 6/10\n",
      "31/31 [==============================] - 1s 45ms/step - loss: 0.0041\n",
      "Epoch 7/10\n",
      "31/31 [==============================] - 1s 47ms/step - loss: 0.0038\n",
      "Epoch 8/10\n",
      "31/31 [==============================] - 1s 47ms/step - loss: 0.0036\n",
      "Epoch 9/10\n",
      "31/31 [==============================] - 1s 47ms/step - loss: 0.0035\n",
      "Epoch 10/10\n",
      "31/31 [==============================] - 2s 49ms/step - loss: 0.0035\n"
     ]
    },
    {
     "data": {
      "text/plain": [
       "<keras.callbacks.History at 0x1df6c76f400>"
      ]
     },
     "execution_count": 37,
     "metadata": {},
     "output_type": "execute_result"
    }
   ],
   "source": [
    "# X_train의 형태: (샘플 수, n_frames, n_features)\n",
    "# y_train의 형태: (샘플 수, n_features) - 다음 프레임의 조인트 좌표\n",
    "\n",
    "# 모델 트레이닝\n",
    "model.fit(x_train, y_train, epochs=10, batch_size=32)\n"
   ]
  },
  {
   "cell_type": "code",
   "execution_count": 45,
   "metadata": {},
   "outputs": [
    {
     "name": "stdout",
     "output_type": "stream",
     "text": [
      "test_x_train shape: (55, 5, 51)\n",
      "test_y_train shape: (55, 51)\n"
     ]
    }
   ],
   "source": [
    "with open('unlabeled_data5.json', 'r') as file:\n",
    "    data = json.load(file)\n",
    "    sequences = np.array(data['sequences'])\n",
    "\n",
    "    test_x_train = []\n",
    "    test_y_train = []\n",
    "\n",
    "    window_size = 5  # 5개의 이전 프레임을 사용하여 다음 프레임을 예측\n",
    "\n",
    "    # 데이터에서 시퀀스 추출\n",
    "    for sequence in sequences:\n",
    "        # 각 시퀀스 내에서 가능한 모든 윈도우 추출\n",
    "        for i in range(len(sequence) - window_size):\n",
    "            test_x_train.append(sequence[i:i+window_size])\n",
    "            test_y_train.append(sequence[i+window_size])\n",
    "\n",
    "    # numpy 배열로 변환\n",
    "    test_x_train = np.array(test_x_train)\n",
    "    test_y_train = np.array(test_y_train)\n",
    "\n",
    "    # 데이터 형태 출력\n",
    "    print(\"test_x_train shape:\", test_x_train.shape)\n",
    "    print(\"test_y_train shape:\", test_y_train.shape)"
   ]
  },
  {
   "cell_type": "code",
   "execution_count": 46,
   "metadata": {},
   "outputs": [
    {
     "name": "stdout",
     "output_type": "stream",
     "text": [
      "2/2 [==============================] - 3s 3s/step\n",
      "[ True  True  True  True  True  True  True  True  True  True  True  True\n",
      "  True  True  True  True  True  True  True  True  True  True  True  True\n",
      "  True  True  True  True  True  True  True  True  True  True  True  True\n",
      "  True  True  True  True  True  True  True  True  True  True  True  True\n",
      "  True  True  True  True  True  True  True]\n",
      "[0.37613125 0.43522897 0.44057623 0.43521562 0.45311745 0.45529923\n",
      " 0.44265627 0.47525426 0.38921494 0.46238241 0.44301224 0.44727659\n",
      " 0.40474864 0.47833367 0.46996879 0.40931416 0.43936759 0.4303018\n",
      " 0.45935298 0.60460224 0.50290843 0.62819098 0.75867157 0.65573009\n",
      " 0.55941485 0.68911034 0.53619786 0.63178233 0.60895123 0.59032367\n",
      " 0.52453737 0.56043372 0.63336731 0.76419413 0.59737777 0.55167095\n",
      " 0.58585656 0.6435022  0.72205825 0.79800897 0.61881634 0.72507139\n",
      " 0.70300933 0.51143496 0.55392677 0.5540556  0.70513693 0.60587784\n",
      " 0.61770691 1.36767527 1.2427318  1.08964739 0.82887822 0.8522678\n",
      " 0.95892351]\n"
     ]
    }
   ],
   "source": [
    "# 예측 수행\n",
    "predictions = model.predict(test_x_train)\n",
    "def detect_anomalies(real, predicted, threshold=0.33):\n",
    "    # 실제 값과 예측 값의 차이를 계산\n",
    "    diff = np.linalg.norm(real - predicted, axis=1)\n",
    "    anomalies = diff > threshold\n",
    "    return anomalies, diff\n",
    "\n",
    "# 이상 감지 실행\n",
    "anomalies, differences = detect_anomalies(test_y_train, predictions)\n",
    "\n",
    "print(anomalies)\n",
    "print(differences)\n",
    "\n",
    "idx = 6\n",
    "for i in anomalies:\n",
    "    if i == False:\n",
    "        print(\"Frame\",idx,\"is False\")\n",
    "    idx += 1"
   ]
  },
  {
   "cell_type": "code",
   "execution_count": 48,
   "metadata": {},
   "outputs": [
    {
     "name": "stdout",
     "output_type": "stream",
     "text": [
      "Model: \"sequential_3\"\n",
      "_________________________________________________________________\n",
      " Layer (type)                Output Shape              Param #   \n",
      "=================================================================\n",
      " time_distributed_6 (TimeDis  (None, 5, 51, 64)        256       \n",
      " tributed)                                                       \n",
      "                                                                 \n",
      " time_distributed_7 (TimeDis  (None, 5, 3264)          0         \n",
      " tributed)                                                       \n",
      "                                                                 \n",
      " lstm_6 (LSTM)               (None, 5, 50)             663000    \n",
      "                                                                 \n",
      " lstm_7 (LSTM)               (None, 50)                20200     \n",
      "                                                                 \n",
      " dense_3 (Dense)             (None, 51)                2601      \n",
      "                                                                 \n",
      "=================================================================\n",
      "Total params: 686,057\n",
      "Trainable params: 686,057\n",
      "Non-trainable params: 0\n",
      "_________________________________________________________________\n"
     ]
    }
   ],
   "source": [
    "model.save('CNN_LSTM_V1.h5')"
   ]
  }
 ],
 "metadata": {
  "kernelspec": {
   "display_name": "nlp",
   "language": "python",
   "name": "python3"
  },
  "language_info": {
   "codemirror_mode": {
    "name": "ipython",
    "version": 3
   },
   "file_extension": ".py",
   "mimetype": "text/x-python",
   "name": "python",
   "nbconvert_exporter": "python",
   "pygments_lexer": "ipython3",
   "version": "3.10.10"
  }
 },
 "nbformat": 4,
 "nbformat_minor": 2
}
